{
 "cells": [
  {
   "cell_type": "code",
   "execution_count": 1,
   "metadata": {},
   "outputs": [],
   "source": [
    "from textblob import TextBlob"
   ]
  },
  {
   "cell_type": "code",
   "execution_count": 2,
   "metadata": {},
   "outputs": [
    {
     "data": {
      "text/plain": [
       "[('Matt', 'NNP'),\n",
       " ('is', 'VBZ'),\n",
       " ('excited', 'VBN'),\n",
       " ('to', 'TO'),\n",
       " ('build', 'VB'),\n",
       " ('a', 'DT'),\n",
       " ('twitter', 'NN'),\n",
       " ('sentiment', 'NN'),\n",
       " ('app', 'NN')]"
      ]
     },
     "execution_count": 2,
     "metadata": {},
     "output_type": "execute_result"
    }
   ],
   "source": [
    "text = TextBlob(\"Matt is excited to build a twitter sentiment app\")\n",
    "text.tags"
   ]
  },
  {
   "cell_type": "code",
   "execution_count": 3,
   "metadata": {},
   "outputs": [
    {
     "data": {
      "text/plain": [
       "WordList(['matt', 'twitter sentiment app'])"
      ]
     },
     "execution_count": 3,
     "metadata": {},
     "output_type": "execute_result"
    }
   ],
   "source": [
    "text.noun_phrases"
   ]
  },
  {
   "cell_type": "code",
   "execution_count": 4,
   "metadata": {},
   "outputs": [
    {
     "data": {
      "text/plain": [
       "WordList(['Matt', 'is', 'excited', 'to', 'build', 'a', 'twitter', 'sentiment', 'app'])"
      ]
     },
     "execution_count": 4,
     "metadata": {},
     "output_type": "execute_result"
    }
   ],
   "source": [
    "text.words"
   ]
  },
  {
   "cell_type": "code",
   "execution_count": 5,
   "metadata": {},
   "outputs": [
    {
     "data": {
      "text/plain": [
       "0.375"
      ]
     },
     "execution_count": 5,
     "metadata": {},
     "output_type": "execute_result"
    }
   ],
   "source": [
    "# The polarity method shows the overall polarity of the text string on a scale from -1 to 1\n",
    "text.sentiment.polarity"
   ]
  },
  {
   "cell_type": "code",
   "execution_count": 6,
   "metadata": {},
   "outputs": [],
   "source": [
    "import tweepy"
   ]
  },
  {
   "cell_type": "code",
   "execution_count": 7,
   "metadata": {},
   "outputs": [],
   "source": [
    "# Set up credentails of the Twitter app\n",
    "consumer_key = '*******'\n",
    "consumer_secret = '*******'\n",
    "\n",
    "access_token = '*******'\n",
    "access_token_secret = '*******'"
   ]
  },
  {
   "cell_type": "code",
   "execution_count": 8,
   "metadata": {},
   "outputs": [],
   "source": [
    "# Authenticate the app\n",
    "auth = tweepy.OAuthHandler(consumer_key, consumer_secret)\n",
    "auth.set_access_token(access_token, access_token_secret)"
   ]
  },
  {
   "cell_type": "code",
   "execution_count": 9,
   "metadata": {},
   "outputs": [],
   "source": [
    "# Create an api variable to call the tweepyapi\n",
    "api = tweepy.API(auth)"
   ]
  },
  {
   "cell_type": "code",
   "execution_count": 12,
   "metadata": {},
   "outputs": [],
   "source": [
    "# Search public tweets containing to word trump\n",
    "public_tweets = api.search('natural language processing')"
   ]
  },
  {
   "cell_type": "code",
   "execution_count": 13,
   "metadata": {},
   "outputs": [
    {
     "name": "stdout",
     "output_type": "stream",
     "text": [
      "Vamos falar de Natural Language Processing? #NLP #DeepLearning #AI https://t.co/CYIkCRZTbs via @LinkedIn\n",
      "Sentiment(polarity=0.1, subjectivity=0.4)\n",
      "NLP 101\n",
      "https://t.co/2I8Oxlsna4\n",
      "Sentiment(polarity=0.0, subjectivity=0.0)\n",
      "RT @spacy_io: Really cool to see our spaCy course alongside all these amazing (and free!) NLP resources, including courses by @fastdotai an…\n",
      "Sentiment(polarity=0.4833333333333334, subjectivity=0.7833333333333333)\n",
      "RT @mtarallo: Got 90 seconds? In this episode of @qlik Qlik Snippets I introduce you to our latest feature Natural Language Processing #nlp…\n",
      "Sentiment(polarity=0.3, subjectivity=0.65)\n",
      "RT @kdnuggets: 10 Free Top Notch Natural Language Processing Courses by @mattmayo13 - KDnuggets https://t.co/kq7SmxMsDx https://t.co/tujwhx…\n",
      "Sentiment(polarity=0.3333333333333333, subjectivity=0.5666666666666668)\n",
      "RT @spacy_io: Really cool to see our spaCy course alongside all these amazing (and free!) NLP resources, including courses by @fastdotai an…\n",
      "Sentiment(polarity=0.4833333333333334, subjectivity=0.7833333333333333)\n",
      "Letitia Parcalabescu ist Doktorandin der Natural Language Processing Group am Institut für Computerlinguistik der U… https://t.co/yA5eQD0O67\n",
      "Sentiment(polarity=0.1, subjectivity=0.4)\n",
      "RT @LanternInst: Build a successful business and change the world #DeepLearning #ai via https://t.co/jnJxWgplgl https://t.co/ASw4pWFpBc\n",
      "Sentiment(polarity=0.75, subjectivity=0.95)\n",
      "Build a successful business and change the world #DeepLearning #ai via https://t.co/jnJxWgplgl https://t.co/ASw4pWFpBc\n",
      "Sentiment(polarity=0.75, subjectivity=0.95)\n",
      "RT @mtarallo: Got 90 seconds? In this episode of @qlik Qlik Snippets I introduce you to our latest feature Natural Language Processing #nlp…\n",
      "Sentiment(polarity=0.3, subjectivity=0.65)\n",
      "RT @bobehayes: 10 Free Top Notch Natural Language Processing Courses\n",
      "\n",
      "Includes: @fastdotai @Stanford @UnivOxford @UW @yandexcom @coursera @…\n",
      "Sentiment(polarity=0.3333333333333333, subjectivity=0.5666666666666668)\n",
      "RT @kdnuggets: 10 Free Top Notch Natural Language Processing Courses by @mattmayo13 - KDnuggets https://t.co/kq7SmxMsDx https://t.co/tujwhx…\n",
      "Sentiment(polarity=0.3333333333333333, subjectivity=0.5666666666666668)\n",
      "RT @machines_learn: Easy Natural Language Processing (NLP) in Python\n",
      "\n",
      "☞ https://t.co/ehDJsJT0tA\n",
      "\n",
      "#ai #deeplearning https://t.co/7HKvSKMZKm\n",
      "Sentiment(polarity=0.26666666666666666, subjectivity=0.6166666666666667)\n",
      "RT @kdnuggets: 10 Free Top Notch Natural Language Processing Courses by @mattmayo13 - KDnuggets https://t.co/kq7SmxMsDx https://t.co/tujwhx…\n",
      "Sentiment(polarity=0.3333333333333333, subjectivity=0.5666666666666668)\n",
      "RT @spacy_io: Really cool to see our spaCy course alongside all these amazing (and free!) NLP resources, including courses by @fastdotai an…\n",
      "Sentiment(polarity=0.4833333333333334, subjectivity=0.7833333333333333)\n"
     ]
    }
   ],
   "source": [
    "# Loop throught the public_tweets list and print them\n",
    "for tweet in public_tweets:\n",
    "    # Print the text attribute of each tweet\n",
    "    print(tweet.text)\n",
    "    # Create an attribute which stores out text analysis and calls TextBlob with the tweet string as the argument\n",
    "    analysis = TextBlob(tweet.text)\n",
    "    # Print the sentiment attribute of the analysis variable\n",
    "    print(analysis.sentiment)"
   ]
  },
  {
   "cell_type": "code",
   "execution_count": null,
   "metadata": {},
   "outputs": [],
   "source": []
  }
 ],
 "metadata": {
  "kernelspec": {
   "display_name": "Python 3",
   "language": "python",
   "name": "python3"
  },
  "language_info": {
   "codemirror_mode": {
    "name": "ipython",
    "version": 3
   },
   "file_extension": ".py",
   "mimetype": "text/x-python",
   "name": "python",
   "nbconvert_exporter": "python",
   "pygments_lexer": "ipython3",
   "version": "3.7.4"
  }
 },
 "nbformat": 4,
 "nbformat_minor": 2
}
